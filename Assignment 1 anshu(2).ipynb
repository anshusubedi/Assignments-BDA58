{
 "cells": [
  {
   "cell_type": "code",
   "execution_count": 6,
   "id": "e997020f-e172-4333-90fd-b6cc3ba2e17f",
   "metadata": {},
   "outputs": [
    {
     "data": {
      "text/plain": [
       "7"
      ]
     },
     "execution_count": 6,
     "metadata": {},
     "output_type": "execute_result"
    }
   ],
   "source": [
    "#Question 1:  How would you find the maximum value from the following list?\n",
    "numbers = [2, 4, 6, 1, 3, 7]\n",
    "# Find the maximum value\n",
    "max_value = max(numbers)\n",
    "#Print the max_value\n",
    "max_value\n",
    "\n",
    "\n",
    "\n",
    "\n",
    "\n",
    "\n",
    "\n"
   ]
  },
  {
   "cell_type": "code",
   "execution_count": 15,
   "id": "0f30b2f1-f3c1-4a55-b27c-6eef8cf97790",
   "metadata": {},
   "outputs": [
    {
     "data": {
      "text/plain": [
       "'apple,mango,banana,chips'"
      ]
     },
     "execution_count": 15,
     "metadata": {},
     "output_type": "execute_result"
    }
   ],
   "source": [
    "# Question 2: How would you combine the following list of strings into a single string?\n",
    "items = [\"apple\", \"mango\", \"banana\", \"chips\"]\n",
    "\n",
    "#Concactenate the list into a single string separated by a comma\n",
    "combined_string = \",\".join(items)\n",
    "\n",
    "#Print the combines_string\n",
    "combined_string"
   ]
  },
  {
   "cell_type": "code",
   "execution_count": 21,
   "id": "18ec30ac-3dcf-420f-b051-135c298a1fc1",
   "metadata": {},
   "outputs": [
    {
     "data": {
      "text/plain": [
       "23"
      ]
     },
     "execution_count": 21,
     "metadata": {},
     "output_type": "execute_result"
    }
   ],
   "source": [
    "#Scenario, You have a dictionary where the keys are names and the values are ages. You need to retrieve the age of a specific person.\n",
    "#Question, How would you get the age of \"Dev\" from the following dictionary?\n",
    "\n",
    "# example of dictionary with key as names and values as ages\n",
    "ages = {\"David\": 25, \"Christina\": 55, \"Dev\":23, \"Alisha\":45}\n",
    "\n",
    "#Get the age of \"Dev\"\n",
    "Dev_age = ages[\"Dev\"]\n",
    "\n",
    "#Print Dev's age\n",
    "Dev_age\n",
    "\n"
   ]
  },
  {
   "cell_type": "code",
   "execution_count": 29,
   "id": "252200f5-8e0e-4ebf-b316-78e7aedffd6c",
   "metadata": {},
   "outputs": [
    {
     "data": {
      "text/plain": [
       "[1, 2, 3, 4, 5, 7, 8]"
      ]
     },
     "execution_count": 29,
     "metadata": {},
     "output_type": "execute_result"
    }
   ],
   "source": [
    "# Scenario: You need to remove duplicate elements from a list while preserving the original order of elements.\n",
    "#Question: How would you remove duplicates from the following list?\n",
    "\n",
    "# list with duplicates\n",
    "\n",
    "numbers = [1,2,3,4,5,7,8,3,2,4]\n",
    "def remove_duplicates(input_list):\n",
    "    seen = set()\n",
    "    result = []\n",
    "    for item in input_list:\n",
    "        if item not in seen:\n",
    "            seen.add(item)\n",
    "            result.append(item)\n",
    "    return result\n",
    "\n",
    "#Remove duplicates\n",
    "unique_numbers = remove_duplicates(numbers)\n",
    "\n",
    "unique_numbers\n"
   ]
  },
  {
   "cell_type": "code",
   "execution_count": 37,
   "id": "5445be2b-d970-4e7d-9863-50fbb2c7542e",
   "metadata": {},
   "outputs": [
    {
     "data": {
      "text/plain": [
       "array([9, 8, 6])"
      ]
     },
     "execution_count": 37,
     "metadata": {},
     "output_type": "execute_result"
    }
   ],
   "source": [
    "#Scenario: You have a 2D NumPy array and need to get the maximum value from each column.\n",
    "# Question: How would you find the maximum values for each column in the following array?\n",
    "\n",
    "import numpy as np\n",
    "\n",
    "# Example 2D NumPy array\n",
    "array = np.array([\n",
    "    [1, 3, 4],\n",
    "    [7, 2, 5],\n",
    "    [9, 8, 6]\n",
    "])\n",
    "\n",
    "# Find the maximum value for each column\n",
    "max_values = np.amax(array, axis=0)\n",
    "max_values\n"
   ]
  },
  {
   "cell_type": "code",
   "execution_count": 45,
   "id": "2753f788-e848-4bc9-a8aa-fe5f9a5231c0",
   "metadata": {},
   "outputs": [
    {
     "name": "stdout",
     "output_type": "stream",
     "text": [
      "       Name  Age       City\n",
      "4       Eva   12  Baltimore\n",
      "0     Harry   23  Kathmandu\n",
      "1       Bob   34      Miami\n",
      "3  Isabella   38    Chicago\n",
      "2    Rosyln   62   New York\n"
     ]
    }
   ],
   "source": [
    "#Scenario: You have a DataFrame and need to sort it by a specific column.\n",
    "#Question: How would you sort the DataFrame by the \"Age\" column?\n",
    "\n",
    "import pandas as pd\n",
    "\n",
    "#Example database\n",
    "data = { \n",
    "    \"Name\" : [\"Harry\", \"Bob\", \"Rosyln\", \"Isabella\", \"Eva\"],\n",
    "    \"Age\": [23, 34, 62, 38, 12],\n",
    "    \"City\": [\"Kathmandu\", \"Miami\", \"New York\", \"Chicago\", \"Baltimore\"]\n",
    "}\n",
    "df = pd.DataFrame(data)\n",
    "# Sort the DataFrame by the \"Age\" column\n",
    "sorted_df = df.sort_values(by=\"Age\")\n",
    "\n",
    "# Print the sorted DataFrame\n",
    "print(sorted_df)\n",
    "    \n",
    "\n",
    "\n"
   ]
  },
  {
   "cell_type": "code",
   "execution_count": 79,
   "id": "727ed744-ec46-42f4-9d4f-1df16617ae24",
   "metadata": {},
   "outputs": [
    {
     "data": {
      "text/plain": [
       "900"
      ]
     },
     "execution_count": 79,
     "metadata": {},
     "output_type": "execute_result"
    }
   ],
   "source": [
    "#ScenarioYou need to calculate the total sum of a column in a DataFrame.\n",
    "#Question: How would you find the sum of the \"Sales\" column?\n",
    "\n",
    "import pandas as pd\n",
    "\n",
    "data = {\n",
    "    \"Product\": [\"A\", \"B\", \"C\", \"D\"],\n",
    "    \"Sales\": [150, 200, 300, 250]\n",
    "}\n",
    "df = pd.DataFrame(data)\n",
    "#Sum of the sales column \n",
    "total_sales = df[\"Sales\"].sum()\n",
    "total_sales\n",
    "    "
   ]
  },
  {
   "cell_type": "code",
   "execution_count": 83,
   "id": "c24cec34-185b-4f72-89f7-2ce6996d9998",
   "metadata": {},
   "outputs": [
    {
     "name": "stdout",
     "output_type": "stream",
     "text": [
      "x is an integer.\n"
     ]
    }
   ],
   "source": [
    "#Scenario: You need to check if a variable is of type int.\n",
    "# Question: How would you verify if a variable x is an integer?\n",
    "\n",
    "# Example variable\n",
    "x = 32\n",
    "\n",
    "# Check if x is an integer\n",
    "is_integer = isinstance(x, int)\n",
    "\n",
    "# Print the result\n",
    "if is_integer:\n",
    "    print(\"x is an integer.\")\n",
    "else:\n",
    "    print(\"x is not an integer.\")\n"
   ]
  },
  {
   "cell_type": "code",
   "execution_count": 105,
   "id": "1e7f8bc6-b761-4282-9063-787456b63642",
   "metadata": {},
   "outputs": [
    {
     "name": "stdout",
     "output_type": "stream",
     "text": [
      "Integers: [2, 21, 56]\n",
      "Floats: [2.5, 1.5]\n",
      "Strings: ['banana', 'mango', 'cherry']\n"
     ]
    }
   ],
   "source": [
    "#Scenario: You have a list of mixed types and need to create separate lists for integers, floats, and strings.\n",
    "#Question: How would you categorize the following mixed list into different types?\n",
    "\n",
    "# Example of mixed list\n",
    "mixed_list = [2, \"banana\", 2.5, 21, \"mango\", 1.5, \"cherry\", 56]\n",
    "\n",
    "#separate lists for different types\n",
    "integers = []\n",
    "strings = []\n",
    "floats = []\n",
    "\n",
    "#Categorize the elements\n",
    "for item in mixed_list:\n",
    "    if isinstance(item, int):\n",
    "        integers.append(item)\n",
    "    elif isinstance(item, float):\n",
    "        floats.append(item)\n",
    "    elif isinstance(item, str):\n",
    "        strings.append(item)\n",
    "\n",
    "print(\"Integers:\", integers)\n",
    "print(\"Floats:\", floats)\n",
    "print(\"Strings:\", strings)"
   ]
  },
  {
   "cell_type": "code",
   "execution_count": 118,
   "id": "95eda9b6-ed1e-4dbd-b4dd-f7d5d16a5a27",
   "metadata": {},
   "outputs": [
    {
     "data": {
      "text/plain": [
       "[2, 5, 6, 3, 5, 7, 9, 11, 12]"
      ]
     },
     "execution_count": 118,
     "metadata": {},
     "output_type": "execute_result"
    }
   ],
   "source": [
    "#Scenario: You are given a string of comma-separated numbers. You need to convert this string into a list of integers.\n",
    "#Question: How would you achieve this conversion?\n",
    "#Example string of comma separated numbers\n",
    "number_string = \"2,5,6,3,5,7,9,11,12\"\n",
    "\n",
    "#Split the strings into a list of strings\n",
    "string_list = number_string.split(\",\")\n",
    "\n",
    "#convert the list of strings into list of integers\n",
    "integer_list = list(map(int, string_list))\n",
    "\n",
    "integer_list\n",
    "\n",
    "\n",
    "\n"
   ]
  },
  {
   "cell_type": "code",
   "execution_count": 122,
   "id": "e8303fea-ee90-4664-b951-297f23684472",
   "metadata": {},
   "outputs": [
    {
     "data": {
      "text/plain": [
       "'oD ton yrrow eb yppah'"
      ]
     },
     "execution_count": 122,
     "metadata": {},
     "output_type": "execute_result"
    }
   ],
   "source": [
    "#Scenario: You need to reverse the words in a sentence while keeping the order of the words intact.\n",
    "#Question: How would you reverse each word in the following sentence?\n",
    "\n",
    "#Example Sentence\n",
    "sentence = \"Do not worry be happy\"\n",
    "\n",
    "#Split the sentence into a list of words\n",
    "words = sentence. split()\n",
    "\n",
    "#Reverse each word\n",
    "reversed_words = [word [::-1] for word in words]\n",
    "\n",
    "#join the reversed word back into the sentence \n",
    "reversed_sentence = \" \".join(reversed_words)\n",
    "\n",
    "reversed_sentence\n"
   ]
  },
  {
   "cell_type": "code",
   "execution_count": 124,
   "id": "4185d22b-c4af-4d22-9e0f-fb253f2ef47b",
   "metadata": {},
   "outputs": [
    {
     "data": {
      "text/plain": [
       "{'name': 'Alex', 'age': '45', 'city': 'Kathmandu'}"
      ]
     },
     "execution_count": 124,
     "metadata": {},
     "output_type": "execute_result"
    }
   ],
   "source": [
    "#Scenario: You need to combine two lists into a dictionary where the elements of the first list are keys and the elements of the second list are values.\n",
    "#Question: How would you combine the following lists into a dictionary?\n",
    "#Example list \n",
    "keys = [\"name\", \"age\", \"city\"]\n",
    "values = [\"Alex\", \"45\", \"Kathmandu\"]\n",
    "#Combine the list into a dictionary\n",
    "combined_dict = dict(zip(keys, values))\n",
    "combined_dict"
   ]
  },
  {
   "cell_type": "code",
   "execution_count": 130,
   "id": "a8e4dcd2-be00-4efd-90e2-995051e17b6b",
   "metadata": {},
   "outputs": [
    {
     "data": {
      "text/plain": [
       "[('Bella', 23), ('Anna', 30), ('Bob', 32), ('Sally', 35), ('Justin', 43)]"
      ]
     },
     "execution_count": 130,
     "metadata": {},
     "output_type": "execute_result"
    }
   ],
   "source": [
    "#Scenario: You are given a list of tuples where each tuple contains a name and an age. You need to sort this list by age.\n",
    "#Question: How would you sort the following list of tuples by age?\n",
    "\n",
    "#Example list of tuple\n",
    "people = [(\"Anna\", 30), (\"Bob\", 32), (\"Sally\", 35), (\"Bella\", 23), (\"Justin\", 43)]\n",
    "\n",
    "#sort list by age\n",
    "sorted_people = sorted(people, key=lambda person: person[1])\n",
    "sorted_people\n"
   ]
  },
  {
   "cell_type": "code",
   "execution_count": 136,
   "id": "fde7e200-66a9-4726-aa1b-443c68e7544e",
   "metadata": {},
   "outputs": [
    {
     "data": {
      "text/plain": [
       "array([5.33333333, 7.33333333, 5.66666667])"
      ]
     },
     "execution_count": 136,
     "metadata": {},
     "output_type": "execute_result"
    }
   ],
   "source": [
    "#Scenario: You have a 2D NumPy array and need to calculate the mean value of each row.\n",
    "#Question: How would you compute the mean value for each row in the following array?\n",
    "\n",
    "import numpy as np\n",
    "\n",
    "#Example 2D numPy array \n",
    "array = np.array([\n",
    "    [11,2,3],\n",
    "    [5,9,8],\n",
    "    [6,7,4]\n",
    "])\n",
    "\n",
    "#Calculate the mean value for each row\n",
    "mean_row = np.mean(array, axis=1)\n",
    "mean_row\n",
    "\n"
   ]
  },
  {
   "cell_type": "code",
   "execution_count": 138,
   "id": "120c47ff-6b78-43d3-8f2e-58bed7371a61",
   "metadata": {},
   "outputs": [
    {
     "data": {
      "text/plain": [
       "array([0., 0., 0., 0., 5., 0., 0., 0., 0., 0.])"
      ]
     },
     "execution_count": 138,
     "metadata": {},
     "output_type": "execute_result"
    }
   ],
   "source": [
    "#Scenario: You need to create a NumPy array of size 10 filled with zeros, and then set the fifth element to 5.\n",
    "#Question: How would you create and modify the array as described?\n",
    "\n",
    "import numpy as np\n",
    "#Create a numpy of size 10 filled with zeros\n",
    "array = np.zeros(10)\n",
    "\n",
    "#Set the fifth element(index 4) to 5\n",
    "array[4]= 5\n",
    "\n",
    "array"
   ]
  },
  {
   "cell_type": "code",
   "execution_count": 154,
   "id": "01291cf5-e794-448b-b7c4-46280f585265",
   "metadata": {},
   "outputs": [
    {
     "data": {
      "text/plain": [
       "88.0"
      ]
     },
     "execution_count": 154,
     "metadata": {},
     "output_type": "execute_result"
    }
   ],
   "source": [
    "#Scenario: You have a DataFrame and need to find the median of a numeric column.\n",
    "#Question: How would you find the median of the \"Scores\" column in the following DataFrame?\n",
    "import pandas as pd\n",
    "#Example Dataframe\n",
    "data = {\n",
    "    \"Name\": [\"Alice\", \"Bob\", \"Charlie\", \"Dev\", \"Eve\"],\n",
    "    \"Scores\": [88, 92, 85, 79, 94]\n",
    "}\n",
    "\n",
    "df = pd.DataFrame(data)\n",
    "\n",
    "# Find the median of the \"scores\" column\n",
    "median_score = df[\"Scores\"].median()\n",
    "median_score\n",
    "\n",
    "\n"
   ]
  },
  {
   "cell_type": "code",
   "execution_count": 156,
   "id": "87f634f0-ad03-4b76-a2ec-0edf6ce56a92",
   "metadata": {},
   "outputs": [
    {
     "data": {
      "text/html": [
       "<div>\n",
       "<style scoped>\n",
       "    .dataframe tbody tr th:only-of-type {\n",
       "        vertical-align: middle;\n",
       "    }\n",
       "\n",
       "    .dataframe tbody tr th {\n",
       "        vertical-align: top;\n",
       "    }\n",
       "\n",
       "    .dataframe thead th {\n",
       "        text-align: right;\n",
       "    }\n",
       "</style>\n",
       "<table border=\"1\" class=\"dataframe\">\n",
       "  <thead>\n",
       "    <tr style=\"text-align: right;\">\n",
       "      <th></th>\n",
       "      <th>Date</th>\n",
       "      <th>Sales</th>\n",
       "    </tr>\n",
       "  </thead>\n",
       "  <tbody>\n",
       "    <tr>\n",
       "      <th>4</th>\n",
       "      <td>2024-01-05</td>\n",
       "      <td>120</td>\n",
       "    </tr>\n",
       "    <tr>\n",
       "      <th>2</th>\n",
       "      <td>2024-01-03</td>\n",
       "      <td>200</td>\n",
       "    </tr>\n",
       "    <tr>\n",
       "      <th>0</th>\n",
       "      <td>2024-01-01</td>\n",
       "      <td>150</td>\n",
       "    </tr>\n",
       "  </tbody>\n",
       "</table>\n",
       "</div>"
      ],
      "text/plain": [
       "         Date  Sales\n",
       "4  2024-01-05    120\n",
       "2  2024-01-03    200\n",
       "0  2024-01-01    150"
      ]
     },
     "execution_count": 156,
     "metadata": {},
     "output_type": "execute_result"
    }
   ],
   "source": [
    "#Scenario: You need to filter rows where the value in the \"Sales\" column is above 100 and then sort these rows by \"Date\" in descending order.\n",
    "#Question: How would you filter and sort the DataFrame based on the given criteria?\n",
    "\n",
    "import pandas as pd\n",
    "\n",
    "#Example dataframe\n",
    "data = {\n",
    "    \"Date\": [\"2024-01-01\", \"2024-01-02\", \"2024-01-03\", \"2024-01-04\", \"2024-01-05\"],\n",
    "    \"Sales\": [150, 80, 200, 50, 120]\n",
    "}\n",
    "df = pd.DataFrame(data)\n",
    "\n",
    "#filter rows where \"Sales\" > 100\n",
    "filtered_df = df[df[\"Sales\"] > 100]\n",
    "\n",
    "#Sort the filtered rows by 'Date' in descending order\n",
    "sorted_df = filtered_df.sort_values(by=\"Date\", ascending=False)\n",
    "\n",
    "sorted_df\n"
   ]
  },
  {
   "cell_type": "code",
   "execution_count": 158,
   "id": "8c6e0157-453a-498d-8028-61787cc72c60",
   "metadata": {},
   "outputs": [
    {
     "name": "stdout",
     "output_type": "stream",
     "text": [
      "Converted integer: 42\n"
     ]
    }
   ],
   "source": [
    "#Scenario: You have a string containing a number and need to convert it to an integer. Additionally, handle the case where the string might not represent a valid integer.\n",
    "#Question: How would you safely convert the string \"42\" to an integer and handle invalid cases?\n",
    "\n",
    "# Example string\n",
    "number_string = \"42\"  \n",
    "\n",
    "# Safely convert the string to an integer\n",
    "try:\n",
    "    number = int(number_string)\n",
    "    print(f\"Converted integer: {number}\")\n",
    "except ValueError:\n",
    "    print(\"The string does not represent a valid integer.\")\n",
    "\n"
   ]
  },
  {
   "cell_type": "code",
   "execution_count": null,
   "id": "84e6edd2-3af3-403e-acfa-a5627ec494e8",
   "metadata": {},
   "outputs": [],
   "source": [
    "#Scenario: You have a list containing different data types, and you want to separate out all the strings.\n",
    "#Question: How would you extract all string elements from the following list?\n",
    "\n",
    "# Example list with different data types\n",
    "mixed_list = [1, \"hello\", 3.14, \"world\", 42, \"Python\", True, None]\n",
    "\n",
    "# Extract all string elements\n",
    "string_elements = [item for item in mixed_list if isinstance(item, str)]\n"
   ]
  }
 ],
 "metadata": {
  "kernelspec": {
   "display_name": "Python 3 (ipykernel)",
   "language": "python",
   "name": "python3"
  },
  "language_info": {
   "codemirror_mode": {
    "name": "ipython",
    "version": 3
   },
   "file_extension": ".py",
   "mimetype": "text/x-python",
   "name": "python",
   "nbconvert_exporter": "python",
   "pygments_lexer": "ipython3",
   "version": "3.12.4"
  }
 },
 "nbformat": 4,
 "nbformat_minor": 5
}
